{
 "cells": [
  {
   "cell_type": "markdown",
   "metadata": {},
   "source": [
    "1. Importing and setting up API Key"
   ]
  },
  {
   "cell_type": "code",
   "execution_count": null,
   "metadata": {},
   "outputs": [],
   "source": [
    "import google.generativeai as genai\n",
    "import os\n",
    "\n",
    "# Configura tu API key\n",
    "os.environ[\"API_KEY\"] = \"Insert your API KEY\"\n",
    "genai.configure(api_key=os.environ[\"API_KEY\"])\n"
   ]
  },
  {
   "cell_type": "markdown",
   "metadata": {},
   "source": [
    "2. Setting up the model"
   ]
  },
  {
   "cell_type": "code",
   "execution_count": null,
   "metadata": {},
   "outputs": [],
   "source": [
    "# Inicializar el modelo del asistente médico\n",
    "model = genai.GenerativeModel(\n",
    "    model_name=\"gemini-1.5-flash\",\n",
    "    generation_config=generation_config,\n",
    "    system_instruction=(\n",
    "        \"Eres un asesor médico que recomienda con qué especialidad médica sacar cita \"\n",
    "        \"en función de los síntomas proporcionados por el usuario. No das diagnósticos, \"\n",
    "        \"pero ayudas a dirigir al paciente a la especialidad adecuada. \"\n",
    "        \"Haz una pregunta por vez para recopilar datos adicionales del usuario, tomando en cuenta sus respuestas anteriores.\"\n",
    "    ),\n",
    ")\n"
   ]
  },
  {
   "cell_type": "markdown",
   "metadata": {},
   "source": [
    "3. Conversation"
   ]
  },
  {
   "cell_type": "code",
   "execution_count": null,
   "metadata": {},
   "outputs": [],
   "source": [
    "# Función que maneja la conversación\n",
    "def start_conditional_chat():\n",
    "    max_questions = 5\n",
    "    questions_asked = 0\n",
    "    conversation_history = []  # Almacena la conversación completa\n",
    "    \n",
    "    # Pregunta inicial sobre los síntomas generales\n",
    "    print(\"Asistente: Buen día, estoy aqui para ayudarte a elegir tu especialidad médica a visitar. Por favor, describe tus síntomas principales.\")\n",
    "    user_input = input(\"Usuario: \")\n",
    "    conversation_history.append(f\"Usuario: {user_input}\")\n",
    "    \n",
    "    # Generar y procesar hasta 5 preguntas dinámicas basadas en las respuestas\n",
    "    while questions_asked < max_questions:\n",
    "        # El prompt se genera usando el historial de conversación\n",
    "        prompt = \" \".join(conversation_history) + \" Con base en esto, haz una pregunta más para obtener más información sobre los síntomas.\"\n",
    "        response = model.generate_content(prompt)\n",
    "        print(f\"Asistente: {response.text}\")\n",
    "        \n",
    "        # Recibir la respuesta del usuario\n",
    "        user_input = input(\"Usuario: \")\n",
    "        conversation_history.append(f\"Asistente: {response.text}\")\n",
    "        conversation_history.append(f\"Usuario: {user_input}\")\n",
    "        questions_asked += 1\n",
    "    \n",
    "    # Generar la recomendación final\n",
    "    symptoms_summary = \" \".join(conversation_history)  # Unir toda la conversación\n",
    "    final_prompt = f\"{symptoms_summary} Basado en esta información, ¿qué especialidad médica debería consultar el usuario?\"\n",
    "    final_response = model.generate_content(final_prompt)\n",
    "    print(f\"Recomendación final: {final_response.text}\")\n",
    "\n",
    "# Iniciar la conversación\n",
    "start_conditional_chat()\n"
   ]
  }
 ],
 "metadata": {
  "kernelspec": {
   "display_name": "Python 3",
   "language": "python",
   "name": "python3"
  },
  "language_info": {
   "name": "python",
   "version": "3.11.9"
  }
 },
 "nbformat": 4,
 "nbformat_minor": 2
}
